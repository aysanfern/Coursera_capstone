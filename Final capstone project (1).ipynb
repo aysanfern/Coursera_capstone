{
 "cells": [
  {
   "cell_type": "markdown",
   "metadata": {},
   "source": [
    "# Capstone Notebook"
   ]
  },
  {
   "cell_type": "markdown",
   "metadata": {},
   "source": [
    "<h5> A description of the problem and a discussion of the background. </h5>\n",
    "\n",
    "I am going to assume the position of a business man who wants to either open up a cafe in London. In London there are a lot of areas which are saturated with coffee shops. To ensure I have the best chances of succeeding I would like to open a cafe in an area where cafe's are one of the least (or atleast less) cafe dense areas. \n",
    "\n",
    "<h6> A description of the data and how it will be used to solve the problem. </h6>\n",
    "\n",
    "The data I will be using will be sourced from Wikipedia inititally for the post codes in United Kingdom. I will then source the areas that are in London. This will then be connecting with the fourspace API to explore nearby venues in each region. I will leave other venues to be included in each region as I want to be able to cluster areas that have a number of venues as well as coffee shops; e.g not just cluster based on the number of coffee shops. I hope to find a cluster of points formed for areas which there are lots of other venues but cafe's are one of the least popular venues.\n"
   ]
  },
  {
   "cell_type": "code",
   "execution_count": null,
   "metadata": {},
   "outputs": [],
   "source": []
  },
  {
   "cell_type": "code",
   "execution_count": null,
   "metadata": {},
   "outputs": [],
   "source": []
  }
 ],
 "metadata": {
  "kernelspec": {
   "display_name": "Python 3",
   "language": "python",
   "name": "python3"
  },
  "language_info": {
   "codemirror_mode": {
    "name": "ipython",
    "version": 3
   },
   "file_extension": ".py",
   "mimetype": "text/x-python",
   "name": "python",
   "nbconvert_exporter": "python",
   "pygments_lexer": "ipython3",
   "version": "3.7.1"
  }
 },
 "nbformat": 4,
 "nbformat_minor": 2
}
